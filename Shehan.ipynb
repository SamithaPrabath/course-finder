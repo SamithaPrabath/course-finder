{
  "nbformat": 4,
  "nbformat_minor": 0,
  "metadata": {
    "colab": {
      "provenance": []
    },
    "kernelspec": {
      "name": "python3",
      "display_name": "Python 3"
    },
    "language_info": {
      "name": "python"
    }
  },
  "cells": [
    {
      "cell_type": "code",
      "source": [
        "# import modules\n",
        "import pandas as pd\n",
        "from sklearn.model_selection import train_test_split\n",
        "from sklearn.preprocessing import LabelEncoder\n",
        "from sklearn.ensemble import RandomForestRegressor\n",
        "from sklearn.metrics import mean_squared_error\n",
        "import numpy as np\n",
        "import matplotlib.pyplot as plt\n",
        "import json"
      ],
      "metadata": {
        "id": "2nRquCl66o1K"
      },
      "execution_count": 1,
      "outputs": []
    },
    {
      "cell_type": "code",
      "source": [
        "# Load the dataset\n",
        "data = pd.read_csv('https://raw.githubusercontent.com/SamithaPrabath/course-finder/master/risk_calculate.csv')\n",
        "\n",
        "# Drop rows with missing values\n",
        "data = data.dropna()"
      ],
      "metadata": {
        "id": "CyYbpcx4bZiY"
      },
      "execution_count": 2,
      "outputs": []
    },
    {
      "cell_type": "code",
      "source": [
        "# Preprocess the data\n",
        "label_encoder = LabelEncoder()\n",
        "data['university_encoded'] = label_encoder.fit_transform(data['University'])\n",
        "data['course_encoded'] = label_encoder.fit_transform(data['Specialization (Only for IT graduates/undergraduates)'])"
      ],
      "metadata": {
        "id": "lzIyYwhbAnF8"
      },
      "execution_count": 3,
      "outputs": []
    },
    {
      "cell_type": "code",
      "source": [
        "# function for save mappings to json file\n",
        "def create_json_file(file_name, encoded_list, pure_list):\n",
        "  mapping ={}\n",
        "  for i in range(len(encoded_list)):\n",
        "    if pure_list[i] not in mapping:\n",
        "      try:\n",
        "        mapping[pure_list[i]] = int(encoded_list[i])\n",
        "      except:\n",
        "        continue\n",
        "\n",
        "  filename = file_name\n",
        "  with open(filename, 'w') as file:\n",
        "    json.dump(mapping, file)"
      ],
      "metadata": {
        "id": "NGJjZPbQ59se"
      },
      "execution_count": 4,
      "outputs": []
    },
    {
      "cell_type": "code",
      "source": [
        "# call function to create json files\n",
        "create_json_file('university_encoded.json', data['university_encoded'], list(data['University']))\n",
        "create_json_file('course_encoded.json', data['course_encoded'], list(data['Specialization (Only for IT graduates/undergraduates)']))"
      ],
      "metadata": {
        "id": "XRpiOP4lA0gt"
      },
      "execution_count": 5,
      "outputs": []
    },
    {
      "cell_type": "code",
      "execution_count": 6,
      "metadata": {
        "colab": {
          "base_uri": "https://localhost:8080/"
        },
        "id": "JM-zoOExYQlO",
        "outputId": "8e5ade2a-a530-442f-92af-64ff448c57c9"
      },
      "outputs": [
        {
          "output_type": "stream",
          "name": "stdout",
          "text": [
            "Mean Squared Error: 0.039086138613861385\n"
          ]
        }
      ],
      "source": [
        "# set x and y varibles\n",
        "target = 'Duration Of course '\n",
        "X = data[['university_encoded', 'course_encoded', 'Applied Loan Amount', 'Year Of Course', 'GPA']]\n",
        "y = data[target]\n",
        "\n",
        "# Split the dataset into training and testing sets\n",
        "X_train, X_test, y_train, y_test = train_test_split(X, y, test_size=0.2, random_state=42)\n",
        "\n",
        "# Train the model\n",
        "model = RandomForestRegressor()\n",
        "model.fit(X_train, y_train)\n",
        "\n",
        "# Evaluate the model\n",
        "y_pred = model.predict(X_test)\n",
        "mse = mean_squared_error(y_test, y_pred)\n",
        "print(\"Mean Squared Error:\", mse)\n"
      ]
    },
    {
      "cell_type": "code",
      "source": [
        "# function for read json file and mapping\n",
        "def map_jason(file_name, value):\n",
        "  with open(file_name, 'r') as file:\n",
        "    data_read = json.load(file)\n",
        "    for key in data_read:\n",
        "      if key == value:\n",
        "        return data_read[key]"
      ],
      "metadata": {
        "id": "vWSHEv1_5vjg"
      },
      "execution_count": 7,
      "outputs": []
    },
    {
      "cell_type": "code",
      "source": [
        "# Example usage: Predict the course duration for new inputs\n",
        "data = {\n",
        "    'University': ['SLIIT'],\n",
        "    'Specialization (Only for IT graduates/undergraduates)': ['Information Systems Engineering'],\n",
        "    'Applied Loan Amount': [100000],\n",
        "    'Year Of Course': [4],\n",
        "    'GPA': [3.7]\n",
        "}\n",
        "data = pd.DataFrame(data)\n",
        "label_encoder = LabelEncoder()\n",
        "data['university_encoded'] = map_jason('university_encoded.json', data['University'][0])\n",
        "data['course_encoded'] = map_jason('course_encoded.json', data['Specialization (Only for IT graduates/undergraduates)'][0])\n",
        "\n",
        "\n",
        "X_test = data[['university_encoded', 'course_encoded', 'Applied Loan Amount', 'Year Of Course', 'GPA']]\n",
        "\n",
        "# Make predictions using the trained model\n",
        "predictions = model.predict(X_test)\n",
        "\n",
        "data_1 = predictions - data['Year Of Course'][0]\n",
        "data_2 = 1 - (predictions - data['Year Of Course'][0])\n",
        "\n",
        "labels = ['Risk', 'Label 2']\n",
        "sizes = [data_1[0], data_2[0] ]  # The values representing the sizes of each slice\n",
        "\n",
        "plt.pie(sizes, labels=labels, autopct='%1.1f%%')\n",
        "\n",
        "plt.axis('equal')\n",
        "\n",
        "plt.title('Pie Chart Example')\n",
        "\n",
        "plt.show()\n"
      ],
      "metadata": {
        "colab": {
          "base_uri": "https://localhost:8080/",
          "height": 428
        },
        "id": "Z3z9sIZFJy9V",
        "outputId": "6f859169-a615-42e5-9a77-cc0af4920f17"
      },
      "execution_count": 14,
      "outputs": [
        {
          "output_type": "display_data",
          "data": {
            "text/plain": [
              "<Figure size 640x480 with 1 Axes>"
            ],
            "image/png": "[encoded data removed]"
          },
          "metadata": {}
        }
      ]
    }
  ]
}